{
 "cells": [
  {
   "cell_type": "code",
   "execution_count": 36,
   "metadata": {},
   "outputs": [
    {
     "name": "stdout",
     "output_type": "stream",
     "text": [
      "[340893.78142911 340028.14679915 340833.23044698]\n",
      "[[ 2.38287398  1.60404217  0.784129   ...  0.30721307 -1.02267022\n",
      "  -0.95174115]\n",
      " [ 0.43136626 -1.16800868 -1.86505207 ...  1.49578592  0.69850372\n",
      "  -1.63032981]\n",
      " [-1.08389873  1.76155033 -1.30663423 ... -1.26574734 -1.46883399\n",
      "  -2.0266533 ]]\n",
      "0.7095521935244696\n"
     ]
    }
   ],
   "source": [
    "import numpy as np\n",
    "import matplotlib as plt\n",
    "\n",
    "\n",
    "alpha = 0.4\n",
    "N=10\n",
    "\n",
    "def Trial2(r):\n",
    "    return np.exp(-1*r)\n",
    "\n",
    "def Trial(alpha, r):\n",
    "    return np.exp(-alpha*r)\n",
    "\n",
    "def E_loc(alpha, r):\n",
    "    return alpha + r**2*(0.5-2*alpha**2)\n",
    "\n",
    "\n",
    "    \n",
    "def metropolis( N, n_walkers, dim):\n",
    "   \n",
    "\n",
    "    rn = np.zeros((dim, N, n_walkers))\n",
    "    r = np.random.randn(dim, n_walkers)\n",
    "    \n",
    "    for i in range(N):\n",
    "        r_trial = r + (0.1*np.random.randn(dim, n_walkers))\n",
    "        ratio = (Trial2(r_trial) / Trial2(r))**2\n",
    "        eta = np.random.uniform(0,1,(dim,n_walkers))\n",
    "        rn[:,i,:] = np.where(ratio >= 1, r_trial, (np.where(eta < ratio, r_trial, r)))\n",
    "        r = np.where(ratio >= 1, r_trial, (np.where(eta < ratio, r_trial, r)))\n",
    "    #print(rn)\n",
    "    rn = np.reshape(rn[:,4:,:], (dim,n_walkers*N - (n_walkers * 4)))\n",
    "    \n",
    "    return(rn)\n",
    "\n",
    "\n",
    "prob_rn = metropolis( 100, 50000, 3)\n",
    "E_local = np.sum(E_loc(alpha, prob_rn),axis=1)/N\n",
    "print(E_local)\n",
    "print(prob_rn)\n",
    "print(np.mean(E_loc(alpha, prob_rn)))\n",
    "\n",
    "\n"
   ]
  },
  {
   "cell_type": "code",
   "execution_count": null,
   "metadata": {},
   "outputs": [],
   "source": []
  },
  {
   "cell_type": "code",
   "execution_count": null,
   "metadata": {},
   "outputs": [],
   "source": []
  },
  {
   "cell_type": "code",
   "execution_count": null,
   "metadata": {},
   "outputs": [],
   "source": [
    "\n"
   ]
  },
  {
   "cell_type": "code",
   "execution_count": null,
   "metadata": {},
   "outputs": [],
   "source": []
  },
  {
   "cell_type": "code",
   "execution_count": null,
   "metadata": {},
   "outputs": [],
   "source": []
  }
 ],
 "metadata": {
  "kernelspec": {
   "display_name": "Python 3",
   "language": "python",
   "name": "python3"
  },
  "language_info": {
   "codemirror_mode": {
    "name": "ipython",
    "version": 3
   },
   "file_extension": ".py",
   "mimetype": "text/x-python",
   "name": "python",
   "nbconvert_exporter": "python",
   "pygments_lexer": "ipython3",
   "version": "3.7.6"
  }
 },
 "nbformat": 4,
 "nbformat_minor": 4
}
