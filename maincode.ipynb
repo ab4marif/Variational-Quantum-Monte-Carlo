{
 "cells": [
  {
   "cell_type": "code",
   "execution_count": 25,
   "metadata": {},
   "outputs": [
    {
     "ename": "NameError",
     "evalue": "name 'dimension' is not defined",
     "output_type": "error",
     "traceback": [
      "\u001b[0;31m---------------------------------------------------------------------------\u001b[0m",
      "\u001b[0;31mNameError\u001b[0m                                 Traceback (most recent call last)",
      "\u001b[0;32m<ipython-input-25-d05ceafceac1>\u001b[0m in \u001b[0;36m<module>\u001b[0;34m\u001b[0m\n\u001b[1;32m     11\u001b[0m \u001b[0malpha\u001b[0m \u001b[0;34m=\u001b[0m \u001b[0malpha\u001b[0m\u001b[0;34m\u001b[0m\u001b[0;34m\u001b[0m\u001b[0m\n\u001b[1;32m     12\u001b[0m \u001b[0;34m\u001b[0m\u001b[0m\n\u001b[0;32m---> 13\u001b[0;31m \u001b[0mD\u001b[0m \u001b[0;34m=\u001b[0m \u001b[0mdimension\u001b[0m\u001b[0;34m\u001b[0m\u001b[0;34m\u001b[0m\u001b[0m\n\u001b[0m\u001b[1;32m     14\u001b[0m \u001b[0;34m\u001b[0m\u001b[0m\n\u001b[1;32m     15\u001b[0m \u001b[0mN_tries\u001b[0m \u001b[0;34m=\u001b[0m \u001b[0;36m30000\u001b[0m\u001b[0;34m\u001b[0m\u001b[0;34m\u001b[0m\u001b[0m\n",
      "\u001b[0;31mNameError\u001b[0m: name 'dimension' is not defined"
     ]
    }
   ],
   "source": [
    "import numpy as np\n",
    "import matplotlib.pyplot as plt\n",
    "\n",
    "from Metropolis import *\n",
    "from HarmonicOscillator  as oscillator\n",
    "import Hatom as Hydrogen\n",
    "import Helium as Helium\n",
    "\n",
    "System = oscillator\n",
    "\n",
    "alpha = System.alpha\n",
    "\n",
    "D = System.dimension\n",
    "\n",
    "N_tries = 30000\n",
    "N_walkers = 400\n",
    "\n",
    "\n",
    "E_a = np.zeros(len(alpha))\n",
    "E_var = np.zeros(len(alpha))\n",
    "\n",
    "for i in range(len(alpha)):\n",
    "    f = lambda R: System.trialWaveFunction(alpha[i], R)\n",
    "\n",
    "    rn, accept_rate = metropolis_algorithm(f, N_tries, N_walkers, D)\n",
    "    E = System.E_loc(alpha[i], rn)\n",
    "    E_a[i] = np.mean(E)\n",
    "    E_var[i] = np.var(E)\n",
    "\n",
    "print(E_a)\n",
    "print(E_var)\n",
    "print(f\"Acceptance rate : {accept_rate}\")"
   ]
  },
  {
   "cell_type": "code",
   "execution_count": null,
   "metadata": {},
   "outputs": [],
   "source": []
  }
 ],
 "metadata": {
  "kernelspec": {
   "display_name": "Python 3",
   "language": "python",
   "name": "python3"
  },
  "language_info": {
   "codemirror_mode": {
    "name": "ipython",
    "version": 3
   },
   "file_extension": ".py",
   "mimetype": "text/x-python",
   "name": "python",
   "nbconvert_exporter": "python",
   "pygments_lexer": "ipython3",
   "version": "3.7.6"
  }
 },
 "nbformat": 4,
 "nbformat_minor": 4
}
