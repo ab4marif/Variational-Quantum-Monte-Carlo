{
 "cells": [
  {
   "cell_type": "code",
   "execution_count": 19,
   "metadata": {},
   "outputs": [
    {
     "name": "stdout",
     "output_type": "stream",
     "text": [
      "This cell gives the energy and variance of the harmonic oscilator in 1D:\n",
      "\n",
      "E(α)\n",
      "[0.51243142 0.50277336 0.5        0.50216659 0.50849598]\n",
      "var(E(α)))\n",
      "[0.02526098 0.00557779 0.         0.00457696 0.01674623]\n",
      "Acceptance rate : 0.5231323333333333\n"
     ]
    }
   ],
   "source": [
    "import numpy as np\n",
    "import matplotlib.pyplot as plt\n",
    "\n",
    "from Metropolis import *\n",
    "import HarmonicOscillator as oscillator\n",
    "import Hatom as Hydrogen\n",
    "import Helium as Helium\n",
    "\n",
    "System = oscillator\n",
    "\n",
    "alpha = System.alpha\n",
    "\n",
    "D = System.dimension\n",
    "\n",
    "N_tries = 30000\n",
    "N_walkers = 400\n",
    "\n",
    "\n",
    "E_a = np.zeros(len(alpha))\n",
    "E_var = np.zeros(len(alpha))\n",
    "\n",
    "for i in range(len(alpha)):\n",
    "    f = lambda R: System.trialWaveFunction(alpha[i], R)\n",
    "\n",
    "    rn, accept_rate = metropolis_algorithm(f, N_tries, N_walkers, D)\n",
    "    E = System.E_loc(alpha[i], rn)\n",
    "    E_a[i] = np.mean(E)\n",
    "    E_var[i] = np.var(E)\n",
    "\n",
    "print(\"This cell gives the energy and variance of the harmonic oscilator in 1D:\")\n",
    "print()\n",
    "print(\"E(\\N{greek small letter alpha})\")\n",
    "print(E_a)\n",
    "print(\"var(E(\\N{greek small letter alpha})))\")\n",
    "print(E_var)\n",
    "print(f\"Acceptance rate : {accept_rate}\")"
   ]
  },
  {
   "cell_type": "code",
   "execution_count": 18,
   "metadata": {},
   "outputs": [
    {
     "name": "stdout",
     "output_type": "stream",
     "text": [
      "This cell gives the energy and variance of the Hydrogen atom in 3D:\n",
      "\n",
      "E(α)\n",
      "[-0.47673305 -0.49355804 -0.5        -0.49612513 -0.48189865]\n",
      "var(E(α)))\n",
      "[0.02147738 0.00734379 0.         0.01204095 0.05275765]\n",
      "Acceptance rate : 0.8007894166666667\n"
     ]
    }
   ],
   "source": [
    "import numpy as np\n",
    "import matplotlib.pyplot as plt\n",
    "\n",
    "from Metropolis import *\n",
    "import HarmonicOscillator as oscillator\n",
    "import Hatom as Hydrogen\n",
    "import Helium as Helium\n",
    "\n",
    "System = Hydrogen\n",
    "\n",
    "alpha = System.alpha\n",
    "\n",
    "D = System.dimension\n",
    "\n",
    "N_tries = 30000\n",
    "N_walkers = 400\n",
    "\n",
    "\n",
    "E_a = np.zeros(len(alpha))\n",
    "E_var = np.zeros(len(alpha))\n",
    "\n",
    "for i in range(len(alpha)):\n",
    "    f = lambda R: System.trialWaveFunction(alpha[i], R)\n",
    "\n",
    "    rn, accept_rate = metropolis_algorithm(f, N_tries, N_walkers, D)\n",
    "    E = System.E_loc(alpha[i], rn)\n",
    "    E_a[i] = np.mean(E)\n",
    "    E_var[i] = np.var(E)\n",
    "\n",
    "print(\"This cell gives the energy and variance of the Hydrogen atom in 3D:\")\n",
    "print()\n",
    "print(\"E(\\N{greek small letter alpha})\")\n",
    "print(E_a)\n",
    "print(\"var(E(\\N{greek small letter alpha})))\")\n",
    "print(E_var)\n",
    "print(f\"Acceptance rate : {accept_rate}\")"
   ]
  },
  {
   "cell_type": "code",
   "execution_count": 20,
   "metadata": {},
   "outputs": [
    {
     "name": "stdout",
     "output_type": "stream",
     "text": [
      "This cell gives the energy and variance of the Helium atom in 3D:\n",
      "E(α)\n",
      "[-2.87015808 -2.86154614 -2.85704725 -2.85383506 -2.84805155 -2.83985963\n",
      " -2.83056136 -2.82328586]\n",
      "var(E(α)))\n",
      "[0.18328815 0.16263956 0.14717319 0.13421303 0.12427957 0.11577997\n",
      " 0.11102609 0.10641076]\n",
      "Acceptance rate : 0.19467558333333335\n"
     ]
    }
   ],
   "source": [
    "import numpy as np\n",
    "import matplotlib.pyplot as plt\n",
    "\n",
    "from Metropolis import *\n",
    "import HarmonicOscillator as oscillator\n",
    "import Hatom as Hydrogen\n",
    "import Helium as Helium\n",
    "\n",
    "System = Helium\n",
    "\n",
    "alpha = System.alpha\n",
    "\n",
    "D = System.dimension\n",
    "\n",
    "N_tries = 30000\n",
    "N_walkers = 400\n",
    "\n",
    "\n",
    "E_a = np.zeros(len(alpha))\n",
    "E_var = np.zeros(len(alpha))\n",
    "\n",
    "for i in range(len(alpha)):\n",
    "    f = lambda R: System.trialWaveFunction(alpha[i], R)\n",
    "\n",
    "    rn, accept_rate = metropolis_algorithm(f, N_tries, N_walkers, D)\n",
    "    E = System.E_loc(alpha[i], rn)\n",
    "    E_a[i] = np.mean(E)\n",
    "    E_var[i] = np.var(E)\n",
    "\n",
    "print(\"This cell gives the energy and variance of the Helium atom in 3D:\")\n",
    "print(\"E(\\N{greek small letter alpha})\")\n",
    "print(E_a)\n",
    "print(\"var(E(\\N{greek small letter alpha})))\")\n",
    "print(E_var)\n",
    "print(f\"Acceptance rate : {accept_rate}\")"
   ]
  },
  {
   "cell_type": "code",
   "execution_count": null,
   "metadata": {},
   "outputs": [],
   "source": []
  }
 ],
 "metadata": {
  "kernelspec": {
   "display_name": "Python 3",
   "language": "python",
   "name": "python3"
  },
  "language_info": {
   "codemirror_mode": {
    "name": "ipython",
    "version": 3
   },
   "file_extension": ".py",
   "mimetype": "text/x-python",
   "name": "python",
   "nbconvert_exporter": "python",
   "pygments_lexer": "ipython3",
   "version": "3.7.6"
  }
 },
 "nbformat": 4,
 "nbformat_minor": 4
}
