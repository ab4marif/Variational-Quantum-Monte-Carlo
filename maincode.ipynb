{
 "cells": [
  {
   "cell_type": "code",
   "execution_count": 21,
   "metadata": {},
   "outputs": [
    {
     "name": "stdout",
     "output_type": "stream",
     "text": [
      "alpha = [0.4  0.45 0.5  0.55 0.6 ]\n",
      "E(alpha) = [0.5124047  0.50288855 0.5        0.50231386 0.50834459]\n",
      "sigma = [0.0252834  0.00560066 0.         0.00454688 0.01681602]\n",
      "Acceptance rate : 0.6471240833333334\n"
     ]
    }
   ],
   "source": [
    "import sys\n",
    "import numpy as np\n",
    "import matplotlib.pyplot as plt\n",
    "\n",
    "\n",
    "from Metropolis import *\n",
    "from HarmonicOscillator import *\n",
    "\n",
    "\n",
    "alpha = np.array([0.4, 0.45, 0.5, 0.55, 0.6])\n",
    "N_tries = 30000\n",
    "N_walkers = 400\n",
    "D = 1\n",
    "\n",
    "E_a = np.zeros(len(alpha))\n",
    "E_var = np.zeros(len(alpha))\n",
    "\n",
    "for i in range(len(alpha)):\n",
    "    f = lambda R: trialWaveFunction(alpha[i], R)\n",
    "\n",
    "    rn, accept_rate = metropolis_algorithm(f, N_tries, N_walkers, D)\n",
    "    E = E_loc(alpha[i], rn)\n",
    "    E_a[i] = np.mean(E)\n",
    "    E_var[i] = np.var(E)\n",
    "\n",
    "\n",
    "print(f\"alpha = {alpha}\")\n",
    "print(f\"E(alpha) = {E_a}\")\n",
    "print(f\"sigma = {E_var}\")\n",
    "print(f\"Acceptance rate : {accept_rate}\")\n"
   ]
  },
  {
   "cell_type": "code",
   "execution_count": null,
   "metadata": {},
   "outputs": [],
   "source": []
  }
 ],
 "metadata": {
  "kernelspec": {
   "display_name": "Python 3",
   "language": "python",
   "name": "python3"
  },
  "language_info": {
   "codemirror_mode": {
    "name": "ipython",
    "version": 3
   },
   "file_extension": ".py",
   "mimetype": "text/x-python",
   "name": "python",
   "nbconvert_exporter": "python",
   "pygments_lexer": "ipython3",
   "version": "3.7.6"
  }
 },
 "nbformat": 4,
 "nbformat_minor": 4
}
