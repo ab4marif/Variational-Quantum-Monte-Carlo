{
 "cells": [
  {
   "cell_type": "code",
   "execution_count": 2,
   "metadata": {
    "collapsed": true,
    "jupyter": {
     "outputs_hidden": true,
     "source_hidden": true
    }
   },
   "outputs": [
    {
     "ename": "ModuleNotFoundError",
     "evalue": "No module named 'Metropolis'",
     "output_type": "error",
     "traceback": [
      "\u001b[0;31m---------------------------------------------------------------------------\u001b[0m",
      "\u001b[0;31mModuleNotFoundError\u001b[0m                       Traceback (most recent call last)",
      "\u001b[0;32m<ipython-input-2-c11ea1577235>\u001b[0m in \u001b[0;36m<module>\u001b[0;34m\u001b[0m\n\u001b[1;32m      2\u001b[0m \u001b[0;32mimport\u001b[0m \u001b[0mmatplotlib\u001b[0m\u001b[0;34m.\u001b[0m\u001b[0mpyplot\u001b[0m \u001b[0;32mas\u001b[0m \u001b[0mplt\u001b[0m\u001b[0;34m\u001b[0m\u001b[0;34m\u001b[0m\u001b[0m\n\u001b[1;32m      3\u001b[0m \u001b[0;34m\u001b[0m\u001b[0m\n\u001b[0;32m----> 4\u001b[0;31m \u001b[0;32mfrom\u001b[0m \u001b[0mMetropolis\u001b[0m \u001b[0;32mimport\u001b[0m \u001b[0;34m*\u001b[0m\u001b[0;34m\u001b[0m\u001b[0;34m\u001b[0m\u001b[0m\n\u001b[0m\u001b[1;32m      5\u001b[0m \u001b[0;32mfrom\u001b[0m \u001b[0mHarmonicOscillator\u001b[0m \u001b[0;32mimport\u001b[0m \u001b[0;34m*\u001b[0m\u001b[0;34m\u001b[0m\u001b[0;34m\u001b[0m\u001b[0m\n\u001b[1;32m      6\u001b[0m \u001b[0;34m\u001b[0m\u001b[0m\n",
      "\u001b[0;31mModuleNotFoundError\u001b[0m: No module named 'Metropolis'"
     ]
    }
   ],
   "source": [
    "import numpy as np\n",
    "import matplotlib as plt\n",
    "\n",
    "\n",
    "alpha = 0.4\n",
    "N=10\n",
    "\n",
    "def Trial2(r):\n",
    "    return np.exp(-1*r)\n",
    "\n",
    "def Trial(alpha, r):\n",
    "    return np.exp(-alpha*r)\n",
    "\n",
    "def E_loc(alpha, r):\n",
    "    return alpha + r**2*(0.5-2*alpha**2)\n",
    "\n",
    "\n",
    "    \n",
    "def metropolis( N, n_walkers, dim):\n",
    "   \n",
    "\n",
    "    rn = np.zeros((dim, N, n_walkers))\n",
    "    r = np.random.randn(dim, n_walkers)\n",
    "    \n",
    "    for i in range(N):\n",
    "        r_trial = r + (0.1*np.random.randn(dim, n_walkers))\n",
    "        ratio = (Trial2(r_trial) / Trial2(r))**2\n",
    "        eta = np.random.uniform(0,1,(dim,n_walkers))\n",
    "        rn[:,i,:] = np.where(ratio >= 1, r_trial, (np.where(eta < ratio, r_trial, r)))\n",
    "        r = np.where(ratio >= 1, r_trial, (np.where(eta < ratio, r_trial, r)))\n",
    "    #print(rn)\n",
    "    rn = np.reshape(rn[:,4:,:], (dim,n_walkers*N - (n_walkers * 4)))\n",
    "    \n",
    "    return(rn)\n",
    "\n",
    "\n",
    "prob_rn = metropolis( 100, 50000, 3)\n",
    "E_local = np.sum(E_loc(alpha, prob_rn),axis=1)/N\n",
    "print(E_local)\n",
    "print(prob_rn)\n",
    "print(np.mean(E_loc(alpha, prob_rn)))\n",
    "\n",
    "\n"
   ]
  },
  {
   "cell_type": "code",
   "execution_count": 17,
   "metadata": {},
   "outputs": [
    {
     "name": "stdout",
     "output_type": "stream",
     "text": [
      "alpha = 0.4\n",
      "E(alpha) = 0.5125697259231705\n",
      "Sigma = 0.025253253041521127\n",
      "alpha = 0.45\n",
      "E(alpha) = 0.5028134601426166\n",
      "Sigma = 0.005596754244470436\n",
      "alpha = 0.5\n",
      "E(alpha) = 0.5\n",
      "Sigma = 0.0\n",
      "alpha = 0.55\n",
      "E(alpha) = 0.5023201557346066\n",
      "Sigma = 0.004543560108415906\n",
      "alpha = 0.6\n",
      "E(alpha) = 0.5083706030472136\n",
      "Sigma = 0.016791295217488966\n",
      "Acceptance rate : 0.6469935\n"
     ]
    }
   ],
   "source": [
    "import sys\n",
    "import numpy as np\n",
    "import matplotlib.pyplot as plt\n",
    "\n",
    "\n",
    "from Metropolis import *\n",
    "from HarmonicOscillator import *\n",
    "\n",
    "\n",
    "alpha = np.array([0.4, 0.45, 0.5, 0.55, 0.6])\n",
    "N_tries = 30000\n",
    "N_walkers = 400\n",
    "D = 1\n",
    "\n",
    "E_a = np.zeros(len(alpha))\n",
    "E_var = np.zeros(len(alpha))\n",
    "\n",
    "for i in range(len(alpha)):\n",
    "    f = lambda R: trialWaveFunction(alpha[i], R)\n",
    "\n",
    "    rn, accept_rate = metropolis_algorithm(f, N_tries, N_walkers, D)\n",
    "    E = E_loc(alpha[i], rn)\n",
    "    E_a[i] = np.mean(E)\n",
    "    E_var[i] = np.var(E)\n",
    "    print(f\"alpha = {alpha[i]}\")\n",
    "    print(f\"E(alpha) = {E_a[i]}\")\n",
    "    print(f\"Sigma = {E_var[i]}\")\n",
    "\n",
    "\n",
    "print(f\"Acceptance rate : {accept_rate}\")\n"
   ]
  },
  {
   "cell_type": "code",
   "execution_count": null,
   "metadata": {},
   "outputs": [],
   "source": []
  }
 ],
 "metadata": {
  "kernelspec": {
   "display_name": "Python 3",
   "language": "python",
   "name": "python3"
  },
  "language_info": {
   "codemirror_mode": {
    "name": "ipython",
    "version": 3
   },
   "file_extension": ".py",
   "mimetype": "text/x-python",
   "name": "python",
   "nbconvert_exporter": "python",
   "pygments_lexer": "ipython3",
   "version": "3.7.6"
  }
 },
 "nbformat": 4,
 "nbformat_minor": 4
}
